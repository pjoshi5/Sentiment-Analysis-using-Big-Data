{
 "cells": [
  {
   "cell_type": "markdown",
   "metadata": {},
   "source": [
    "## LAB 2 - TWITTER DATA COLLECTION"
   ]
  },
  {
   "cell_type": "markdown",
   "metadata": {},
   "source": [
    "#### Submitted by - \n",
    "    Pradeep Kumar Joshi\n",
    "    Abhishek Goswami"
   ]
  },
  {
   "cell_type": "markdown",
   "metadata": {},
   "source": [
    "#### loading the twitterR package to gather tweets"
   ]
  },
  {
   "cell_type": "code",
   "execution_count": 1,
   "metadata": {},
   "outputs": [
    {
     "name": "stderr",
     "output_type": "stream",
     "text": [
      "Warning message:\n",
      "\"package 'twitteR' was built under R version 3.5.2\""
     ]
    }
   ],
   "source": [
    "library(\"twitteR\") #installs TwitteR library (twitteR) #loads TwitteR"
   ]
  },
  {
   "cell_type": "markdown",
   "metadata": {},
   "source": [
    "#### Setting up the token keys and connecting to the twitter account"
   ]
  },
  {
   "cell_type": "code",
   "execution_count": 2,
   "metadata": {},
   "outputs": [
    {
     "name": "stdout",
     "output_type": "stream",
     "text": [
      "[1] \"Using direct authentication\"\n"
     ]
    }
   ],
   "source": [
    "api_key = \"87gPTic74tTRDAOKFbed8hSaR\"\n",
    "api_secret = \"zTt5chg9LHHLkuqleP5aMMl38j4Pr5EnXlm8dPlOtizHGQhmck\"\n",
    "token = \"1096506096460681217-PqZqp0CbSz3Yb9mhiIsxWMxlN1Xevj\"\n",
    "token_secret = \"YeMsTynz8vLHll88IcwNxTlh6DWcu5LYKhQzBaPz3wtMh\"\n",
    "\n",
    "setup_twitter_oauth(api_key, api_secret, token, token_secret)"
   ]
  },
  {
   "cell_type": "markdown",
   "metadata": {},
   "source": [
    "#### Finding tweets related to USA Immigration"
   ]
  },
  {
   "cell_type": "code",
   "execution_count": 3,
   "metadata": {},
   "outputs": [],
   "source": [
    "immig_Tweets <- searchTwitter(\"us_immigration OR #us_immigration OR US_IMMIGRATION OR #US_IMMIGRATION OR US_Immigration OR #US_Immigration OR us_civil_wars OR #us_civil_wars OR US_CIVIL_WARS OR #US_CIVIL_WARS OR US_Civil_Wars OR #US_Civil_Wars\", n = 1500, lang = \"en\")"
   ]
  },
  {
   "cell_type": "code",
   "execution_count": 4,
   "metadata": {},
   "outputs": [],
   "source": [
    "immig_Tweets2 <- searchTwitter(\"us_citizenship OR #us_citizenship OR US_CITIZENSHIP OR #US_CITIZENSHIP OR US_Citizenship OR #US_Citizenship OR uscis OR #uscis OR USCIS OR #USCIS OR Uscis OR #Uscis\", n = 1500, lang = \"en\")"
   ]
  },
  {
   "cell_type": "code",
   "execution_count": 5,
   "metadata": {},
   "outputs": [
    {
     "name": "stderr",
     "output_type": "stream",
     "text": [
      "Warning message in doRppAPICall(\"search/tweets\", n, params = params, retryOnRateLimit = retryOnRateLimit, :\n",
      "\"1500 tweets were requested but the API can only return 986\""
     ]
    }
   ],
   "source": [
    "immig_Tweets3 <- searchTwitter(\"immigrant_visa OR #immigrant_visa OR IMMIGRANT_VISA OR #IMMIGRANT_VISA OR Immigrant_Visa OR #Immigrant_Visa OR migrator OR #migrator OR MIGRATOR OR #MIGRATOR OR Migrator OR #Migrator\", n = 1500, lang = \"en\")"
   ]
  },
  {
   "cell_type": "code",
   "execution_count": 6,
   "metadata": {},
   "outputs": [],
   "source": [
    "immig_Tweets4 <- searchTwitter(\"migration OR #migration OR refugees OR #refugees OR REFUGEES OR #REFUGEES OR Refugees OR #Refugees\", n = 1500, lang = \"en\")"
   ]
  },
  {
   "cell_type": "code",
   "execution_count": 7,
   "metadata": {},
   "outputs": [],
   "source": [
    "immig_Tweets5 <- searchTwitter(\"green_card OR #green_card OR GREEN_CARD OR #GREEN_CARD OR GREEN_CARD OR #Green_Card OR emigrate OR #emigrate OR EMIGRATE OR #EMIGRATE OR Emigrate OR #Emigrate\", n = 1500, lang = \"en\")"
   ]
  },
  {
   "cell_type": "code",
   "execution_count": 8,
   "metadata": {},
   "outputs": [],
   "source": [
    "immig_Tweets6 <- searchTwitter(\"illegal_immigration OR #illegal_immigration OR ILLEGAL_IMMIGRATION OR #ILLEGAL_IMMIGRATION OR Illegal_Immigration OR #Illegal_Immigration\", n = 500, lang = \"en\")"
   ]
  },
  {
   "cell_type": "markdown",
   "metadata": {},
   "source": [
    "#### Converting tweets to data frame and writing it in a .csv file"
   ]
  },
  {
   "cell_type": "code",
   "execution_count": 9,
   "metadata": {},
   "outputs": [
    {
     "name": "stdout",
     "output_type": "stream",
     "text": [
      "[1] \"imig_tweets 2019-04-18 .csv\"\n",
      "[1] 7486\n"
     ]
    }
   ],
   "source": [
    "\n",
    "#tweets_df = twListToDF(tweets)\n",
    "#tweets_data\n",
    "Imig_tweetsdf1 = twListToDF(immig_Tweets)\n",
    "Imig_tweetsdf2 = twListToDF(immig_Tweets2)\n",
    "Imig_tweetsdf3 = twListToDF(immig_Tweets3)\n",
    "Imig_tweetsdf4 = twListToDF(immig_Tweets4)\n",
    "Imig_tweetsdf5 = twListToDF(immig_Tweets5)\n",
    "Imig_tweetsdf6 = twListToDF(immig_Tweets6)\n",
    "#Imig_tweetsdf7 = twListToDF(immig_Tweets7)\n",
    "\n",
    "Imig_tweetsdf = rbind(Imig_tweetsdf1,Imig_tweetsdf2)\n",
    "Imig_tweetsdf = rbind(Imig_tweetsdf,Imig_tweetsdf3)\n",
    "Imig_tweetsdf = rbind(Imig_tweetsdf,Imig_tweetsdf4)\n",
    "Imig_tweetsdf = rbind(Imig_tweetsdf,Imig_tweetsdf5)\n",
    "Imig_tweetsdf = rbind(Imig_tweetsdf,Imig_tweetsdf6)\n",
    "#Imig_tweetsdf = rbind(Imig_tweetsdf,Imig_tweetsdf7)\n",
    "\n",
    "\n",
    "date = toString(Sys.Date())\n",
    "file_name = paste('imig_tweets',date,'.csv')\n",
    "#file_name = paste(file_name,'.csv')\n",
    "print(file_name)\n",
    "print(nrow(Imig_tweetsdf))"
   ]
  },
  {
   "cell_type": "markdown",
   "metadata": {},
   "source": [
    "#### Writing into file with date appened"
   ]
  },
  {
   "cell_type": "code",
   "execution_count": 10,
   "metadata": {},
   "outputs": [],
   "source": [
    "\n",
    "## Checking and writing for combination of tweets file\n",
    "\n",
    "write.csv(Imig_tweetsdf, file_name,fileEncoding=\"UTF-8\",row.names=FALSE) #an example of a file extension of the folder in which you want to save the .csv file. \n"
   ]
  },
  {
   "cell_type": "markdown",
   "metadata": {},
   "source": [
    "#### lisitng in all the files mathing the pattern in workspace"
   ]
  },
  {
   "cell_type": "code",
   "execution_count": 11,
   "metadata": {},
   "outputs": [],
   "source": [
    "file_names = list.files(path = \".\", pattern = \"^imig_tweets\", all.files = FALSE,\n",
    "           full.names = FALSE, recursive = FALSE,\n",
    "           ignore.case = FALSE, include.dirs = FALSE, no.. = FALSE)\n",
    "#print(file_names[3])"
   ]
  },
  {
   "cell_type": "markdown",
   "metadata": {},
   "source": [
    "#### Reading through these files and writing the tweets"
   ]
  },
  {
   "cell_type": "code",
   "execution_count": 12,
   "metadata": {},
   "outputs": [
    {
     "name": "stdout",
     "output_type": "stream",
     "text": [
      "[1] \"character\"\n",
      "[1] \"character\"\n",
      "[1] \"character\"\n",
      "[1] \"character\"\n",
      "[1] \"character\"\n",
      "[1] \"character\"\n",
      "[1] \"character\"\n",
      "[1] \"character\"\n",
      "[1] \"character\"\n",
      "[1] \"character\"\n"
     ]
    }
   ],
   "source": [
    "tweets = c()\n",
    "imig_only_tweetsdf = c()\n",
    "\n",
    "for (i in 1:length(file_names)){\n",
    "    imig_only_tweetsdf = read.csv(file=file_names[i], header=TRUE, sep=\",\")\n",
    "    imig_only_tweetsdf = as.character(imig_only_tweetsdf$text)\n",
    "    print(class(imig_only_tweetsdf))\n",
    "    tweets = c(tweets,imig_only_tweetsdf)    \n",
    "}\n",
    "#print(tweets[100:200])"
   ]
  },
  {
   "cell_type": "markdown",
   "metadata": {},
   "source": [
    "#### Writing the tweets in a text file"
   ]
  },
  {
   "cell_type": "code",
   "execution_count": 13,
   "metadata": {},
   "outputs": [],
   "source": [
    "write.table(tweets, file = \"tweets.txt\", sep = \"\\n\",\n",
    "            row.names = FALSE, col.names = FALSE)"
   ]
  }
 ],
 "metadata": {
  "kernelspec": {
   "display_name": "R",
   "language": "R",
   "name": "ir"
  },
  "language_info": {
   "codemirror_mode": "r",
   "file_extension": ".r",
   "mimetype": "text/x-r-source",
   "name": "R",
   "pygments_lexer": "r",
   "version": "3.5.1"
  }
 },
 "nbformat": 4,
 "nbformat_minor": 2
}
