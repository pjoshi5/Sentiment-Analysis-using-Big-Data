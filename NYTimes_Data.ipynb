{
 "cells": [
  {
   "cell_type": "markdown",
   "metadata": {},
   "source": [
    "## LAB 2 - NEW YORK TIMES DATA COLLECTION"
   ]
  },
  {
   "cell_type": "markdown",
   "metadata": {},
   "source": [
    "### Submitted by -\n",
    "    Pradeep Kumar Joshi\n",
    "    Abhishek Goswami"
   ]
  },
  {
   "cell_type": "code",
   "execution_count": null,
   "metadata": {},
   "outputs": [],
   "source": [
    "import pandas as pd\n",
    "import csv\n",
    "import fileinput\n",
    "import glob\n",
    "\n",
    "## NY Times API Search\n",
    "from nytimesarticle import articleAPI\n",
    "api = articleAPI('nFwHPejC1HdS55xkn4wCECIscTxNMHpX')"
   ]
  },
  {
   "cell_type": "code",
   "execution_count": null,
   "metadata": {},
   "outputs": [],
   "source": [
    "immig_Data = api.search(q = 'immigration',begin_date = 20190101)\n",
    "immig1_Data = api.search(q = 'US Immigration',begin_date = 20190101)\n",
    "immig2_Data = api.search(q = 'U.S. Immigrant',begin_date = 20190101)\n",
    "immig3_Data = api.search(q = 'US Civil wars',begin_date = 20190101)\n",
    "immig4_Data = api.search(q = 'U.S. Citizenship and Immigration Services',begin_date = 20190101)\n",
    "immig5_Data = api.search(q = 'USCIS',begin_date = 20190101)"
   ]
  },
  {
   "cell_type": "code",
   "execution_count": null,
   "metadata": {},
   "outputs": [],
   "source": [
    "immig6_Data = api.search(q = 'immigrant visa',begin_date = 20190101)\n",
    "immig7_Data = api.search(q = 'Migrator',begin_date = 20190101)\n",
    "immig8_Data = api.search(q = 'Migration',begin_date = 20190101)\n",
    "immig9_Data = api.search(q = 'Refugees',begin_date = 20190101)\n",
    "immig10_Data = api.search(q = 'Pilgrim',begin_date = 20190101)"
   ]
  },
  {
   "cell_type": "code",
   "execution_count": null,
   "metadata": {},
   "outputs": [],
   "source": [
    "immig11_Data = api.search(q = 'Green Card',begin_date = 20190101)\n",
    "immig12_Data = api.search(q = 'Emigrate',begin_date = 20190101)\n",
    "immig13_Data = api.search(q = 'Emigration',begin_date = 20190101)\n",
    "immig14_Data = api.search(q = 'Illegal immigration',begin_date = 20190101)\n",
    "immig15_Data = api.search(q = 'Legal immigration',begin_date = 20190101)\n",
    "immig16_Data = api.search(q = 'border wall',begin_date = 20190101)"
   ]
  },
  {
   "cell_type": "code",
   "execution_count": 26,
   "metadata": {},
   "outputs": [],
   "source": [
    "immig17_Data = api.search(q = 'workers',begin_date = 20190101)\n",
    "immig18_Data = api.search(q = 'people feeling',begin_date = 20190101)\n",
    "immig19_Data = api.search(q = 'border policies',begin_date = 20190101)\n",
    "immig20_Data = api.search(q = 'border crisis',begin_date = 20190101)\n",
    "immig21_Data = api.search(q = 'immigration system',begin_date = 20190101)\n",
    "immig22_Data = api.search(q = 'border security',begin_date = 20190101)"
   ]
  },
  {
   "cell_type": "code",
   "execution_count": 27,
   "metadata": {},
   "outputs": [],
   "source": [
    "immig23_Data = api.search(q = 'border',begin_date = 20190101)\n",
    "immig24_Data = api.search(q = 'wall',begin_date = 20190101)\n",
    "immig25_Data = api.search(q = 'immigration services',begin_date = 20190101)\n",
    "immig26_Data = api.search(q = 'permanent residence',begin_date = 20190101)\n",
    "immig27_Data = api.search(q = 'migrant worker',begin_date = 20190101)\n",
    "immig28_Data = api.search(q = 'immigration and crime',begin_date = 20190101)"
   ]
  },
  {
   "cell_type": "code",
   "execution_count": 28,
   "metadata": {},
   "outputs": [],
   "source": [
    "immig29_Data = api.search(q = 'foreign born',begin_date = 20190101)\n",
    "immig30_Data = api.search(q = 'national borders',begin_date = 20190101)\n",
    "immig31_Data = api.search(q = 'international migrants',begin_date = 20190101)\n",
    "immig32_Data = api.search(q = 'work overseas',begin_date = 20190101)\n",
    "immig33_Data = api.search(q = 'employment contract',begin_date = 20190101)\n",
    "immig34_Data = api.search(q = 'immigration barriers',begin_date = 20190101)"
   ]
  },
  {
   "cell_type": "code",
   "execution_count": 37,
   "metadata": {},
   "outputs": [],
   "source": [
    "immig35_Data = api.search(q = 'immigration ban',begin_date = 20190101)\n",
    "immig36_Data = api.search(q = 'immigration laws',begin_date = 20190101)\n",
    "immig37_Data = api.search(q = 'reforms',begin_date = 20190101)\n",
    "immig38_Data = api.search(q = 'immigration agenda',begin_date = 20190101)\n",
    "immig39_Data = api.search(q = 'immigration security',begin_date = 20190101)\n",
    "immig40_Data = api.search(q = 'border ban',begin_date = 20190101)"
   ]
  },
  {
   "cell_type": "code",
   "execution_count": 38,
   "metadata": {},
   "outputs": [],
   "source": [
    "### URL COLLECTION\n",
    "def collectarticles_url(data_collect):\n",
    "    url_fetch = []\n",
    "    \n",
    "    for i in data_collect['response']['docs']:\n",
    "        urls = {}  \n",
    "        urls['url'] = i['web_url']\n",
    "        url_fetched = urls['url']\n",
    "        url_fetch.append(url_fetched)\n",
    "        \n",
    "    return(url_fetch)"
   ]
  },
  {
   "cell_type": "code",
   "execution_count": 9,
   "metadata": {},
   "outputs": [],
   "source": [
    "immig_URL = collectarticles_url(immig_Data)\n",
    "immig1_URL = collectarticles_url(immig1_Data)\n",
    "immig2_URL = collectarticles_url(immig2_Data)\n",
    "immig3_URL = collectarticles_url(immig3_Data)\n",
    "immig4_URL = collectarticles_url(immig4_Data)\n",
    "immig5_URL = collectarticles_url(immig5_Data)\n",
    "immig6_URL = collectarticles_url(immig6_Data)\n",
    "immig7_URL = collectarticles_url(immig7_Data)\n",
    "immig8_URL = collectarticles_url(immig8_Data)\n",
    "immig9_URL = collectarticles_url(immig9_Data)\n",
    "immig10_URL = collectarticles_url(immig10_Data)\n",
    "immig11_URL = collectarticles_url(immig11_Data)\n",
    "immig12_URL = collectarticles_url(immig12_Data)\n",
    "immig13_URL = collectarticles_url(immig13_Data)\n",
    "immig14_URL = collectarticles_url(immig14_Data)\n",
    "immig15_URL = collectarticles_url(immig15_Data)\n",
    "immig16_URL = collectarticles_url(immig16_Data)"
   ]
  },
  {
   "cell_type": "code",
   "execution_count": 30,
   "metadata": {},
   "outputs": [],
   "source": [
    "immig17_URL = collectarticles_url(immig17_Data)\n",
    "immig18_URL = collectarticles_url(immig18_Data)\n",
    "immig19_URL = collectarticles_url(immig19_Data)\n",
    "immig20_URL = collectarticles_url(immig20_Data)\n",
    "immig21_URL = collectarticles_url(immig21_Data)\n",
    "immig22_URL = collectarticles_url(immig22_Data)\n",
    "immig23_URL = collectarticles_url(immig23_Data)\n",
    "immig24_URL = collectarticles_url(immig24_Data)\n",
    "immig25_URL = collectarticles_url(immig25_Data)\n",
    "immig26_URL = collectarticles_url(immig26_Data)\n",
    "immig27_URL = collectarticles_url(immig27_Data)\n",
    "immig28_URL = collectarticles_url(immig28_Data)\n",
    "immig29_URL = collectarticles_url(immig29_Data)\n",
    "immig30_URL = collectarticles_url(immig30_Data)\n",
    "immig31_URL = collectarticles_url(immig31_Data)\n",
    "immig32_URL = collectarticles_url(immig32_Data)\n",
    "immig33_URL = collectarticles_url(immig33_Data)\n",
    "immig34_URL = collectarticles_url(immig34_Data)"
   ]
  },
  {
   "cell_type": "code",
   "execution_count": 39,
   "metadata": {},
   "outputs": [],
   "source": [
    "immig35_URL = collectarticles_url(immig35_Data)\n",
    "immig36_URL = collectarticles_url(immig36_Data)\n",
    "immig37_URL = collectarticles_url(immig37_Data)\n",
    "immig38_URL = collectarticles_url(immig38_Data)\n",
    "immig39_URL = collectarticles_url(immig39_Data)\n",
    "immig40_URL = collectarticles_url(immig40_Data)"
   ]
  },
  {
   "cell_type": "code",
   "execution_count": 31,
   "metadata": {},
   "outputs": [],
   "source": [
    "immig1_List = immig_URL + immig1_URL + immig2_URL + immig3_URL + immig4_URL + immig5_URL + immig6_URL\n",
    "immig1_List = list(set(immig1_List))"
   ]
  },
  {
   "cell_type": "code",
   "execution_count": 32,
   "metadata": {},
   "outputs": [],
   "source": [
    "immig2_List = immig7_URL + immig8_URL + immig9_URL + immig10_URL + immig11_URL + immig12_URL + immig13_URL \n",
    "immig2_List = list(set(immig2_List))"
   ]
  },
  {
   "cell_type": "code",
   "execution_count": 33,
   "metadata": {},
   "outputs": [],
   "source": [
    "immig3_List = immig14_URL + immig15_URL + immig16_URL + immig17_URL + immig18_URL + immig19_URL + immig20_URL\n",
    "immig3_List = list(set(immig3_List))"
   ]
  },
  {
   "cell_type": "code",
   "execution_count": 34,
   "metadata": {},
   "outputs": [],
   "source": [
    "immig4_List = immig21_URL + immig22_URL + immig23_URL + immig24_URL + immig25_URL + immig26_URL + immig27_URL\n",
    "immig4_List = list(set(immig4_List))"
   ]
  },
  {
   "cell_type": "code",
   "execution_count": 35,
   "metadata": {},
   "outputs": [],
   "source": [
    "immig5_List = immig28_URL + immig29_URL + immig30_URL + immig31_URL + immig32_URL + immig33_URL + immig34_URL\n",
    "immig5_List = list(set(immig5_List))"
   ]
  },
  {
   "cell_type": "code",
   "execution_count": 42,
   "metadata": {},
   "outputs": [],
   "source": [
    "immig6_List = immig35_URL + immig36_URL + immig37_URL + immig38_URL + immig39_URL + immig40_URL\n",
    "immig6_List = list(set(immig6_List))"
   ]
  },
  {
   "cell_type": "code",
   "execution_count": 43,
   "metadata": {},
   "outputs": [
    {
     "data": {
      "text/plain": [
       "257"
      ]
     },
     "execution_count": 43,
     "metadata": {},
     "output_type": "execute_result"
    }
   ],
   "source": [
    "## Total URLs collected\n",
    "len(immig1_List + immig2_List + immig3_List + immig4_List + immig5_List + immig6_List)"
   ]
  },
  {
   "cell_type": "code",
   "execution_count": 45,
   "metadata": {},
   "outputs": [],
   "source": [
    "## SCRAPING THE DATA FROM URLs\n",
    "def scrappedData(urls):\n",
    "    data_collect = []\n",
    "\n",
    "    for i in urls:\n",
    "        req = urllib.request.urlopen(i).read()\n",
    "        soup = BeautifulSoup(req)\n",
    "        loop_text = soup.findAll('p')\n",
    "    \n",
    "        data_text = \"\"\n",
    "        for val in loop_text:\n",
    "            data_text = data_text + val.getText()\n",
    "        data_collect.append(data_text)\n",
    "    return(data_collect)"
   ]
  },
  {
   "cell_type": "code",
   "execution_count": 46,
   "metadata": {},
   "outputs": [],
   "source": [
    "immig1_final = scrappedData(immig1_List)\n",
    "immig2_final = scrappedData(immig2_List)\n",
    "immig3_final = scrappedData(immig3_List)\n",
    "immig4_final = scrappedData(immig4_List)\n",
    "immig5_final = scrappedData(immig5_List)\n",
    "immig6_final = scrappedData(immig6_List)"
   ]
  },
  {
   "cell_type": "code",
   "execution_count": 47,
   "metadata": {},
   "outputs": [],
   "source": [
    "immig1_DF = pd.DataFrame(immig1_final)\n",
    "immig1_DF.to_csv('nytimes_topic1.txt', index=False)\n",
    "\n",
    "immig2_DF = pd.DataFrame(immig2_final)\n",
    "immig2_DF.to_csv('nytimes_topic2.txt', index=False)"
   ]
  },
  {
   "cell_type": "code",
   "execution_count": 49,
   "metadata": {},
   "outputs": [],
   "source": [
    "immig3_DF = pd.DataFrame(immig3_final)\n",
    "immig3_DF.to_csv('nytimes_topic3.txt', index=False)\n",
    "\n",
    "immig4_DF = pd.DataFrame(immig4_final)\n",
    "immig4_DF.to_csv('nytimes_topic4.txt', index=False)"
   ]
  },
  {
   "cell_type": "code",
   "execution_count": 51,
   "metadata": {},
   "outputs": [],
   "source": [
    "immig5_DF = pd.DataFrame(immig5_final)\n",
    "immig5_DF.to_csv('nytimes_topic6.txt', index=False)\n",
    "\n",
    "immig6_DF = pd.DataFrame(immig5_final)\n",
    "immig6_DF.to_csv('nytimes_topic6.txt', index=False)"
   ]
  },
  {
   "cell_type": "code",
   "execution_count": null,
   "metadata": {},
   "outputs": [],
   "source": [
    "## COMBINING THE TEXT FILES TOGETHER\n",
    "list_files = glob.glob(\"*.txt\")\n",
    "\n",
    "with open('nytimes.txt', 'w') as file:\n",
    "    input_lines = fileinput.input(list_files)\n",
    "    file.writelines(input_lines)"
   ]
  }
 ],
 "metadata": {
  "kernelspec": {
   "display_name": "Python 3",
   "language": "python",
   "name": "python3"
  },
  "language_info": {
   "codemirror_mode": {
    "name": "ipython",
    "version": 3
   },
   "file_extension": ".py",
   "mimetype": "text/x-python",
   "name": "python",
   "nbconvert_exporter": "python",
   "pygments_lexer": "ipython3",
   "version": "3.7.1"
  }
 },
 "nbformat": 4,
 "nbformat_minor": 2
}
