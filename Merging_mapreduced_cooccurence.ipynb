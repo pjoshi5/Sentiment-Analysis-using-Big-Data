{
 "cells": [
  {
   "cell_type": "markdown",
   "metadata": {},
   "source": [
    "## LAB 2 - TWITTER Merged Map Reduce Cooccurrence"
   ]
  },
  {
   "cell_type": "markdown",
   "metadata": {},
   "source": [
    "#### Submitted by -\n",
    "    Pradeep Kumar Joshi\n",
    "    Abhishek Goswami"
   ]
  },
  {
   "cell_type": "code",
   "execution_count": 1,
   "metadata": {},
   "outputs": [],
   "source": [
    "import os\n",
    "import pandas as pd\n",
    "full_list = []\n",
    "full_file = pd.DataFrame(columns = [\"word\",\"count\"])\n",
    "#print(full_file)\n",
    "path = 'C:/Users/Abhis/Desktop/DIC_LAB2/twitter_map_red/twitter_cooccurence/'\n",
    "fileList = os.listdir(path)\n",
    "files = filter(lambda x: x[:4] == 'part', fileList)\n",
    "for file in files:\n",
    "    #print(file)\n",
    "    #file = open(os.path.join(path+ file), 'r')\n",
    "    file_red = pd.read_csv(path + file, sep = '\\t')\n",
    "    file_red.columns = [\"word\",\"count\"]\n",
    "    #print(file_red)\n",
    "    full_file = pd.concat([full_file,file_red])\n",
    "#print(full_file)\n",
    "full_file.to_csv('C:/Users/Abhis/Desktop/DIC_LAB2/twitter_mapreduced_cooccurence.csv', sep=',',index = False)"
   ]
  }
 ],
 "metadata": {
  "kernelspec": {
   "display_name": "Python 3",
   "language": "python",
   "name": "python3"
  },
  "language_info": {
   "codemirror_mode": {
    "name": "ipython",
    "version": 3
   },
   "file_extension": ".py",
   "mimetype": "text/x-python",
   "name": "python",
   "nbconvert_exporter": "python",
   "pygments_lexer": "ipython3",
   "version": "3.7.1"
  }
 },
 "nbformat": 4,
 "nbformat_minor": 2
}
