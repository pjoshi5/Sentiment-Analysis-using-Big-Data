{
 "cells": [
  {
   "cell_type": "markdown",
   "metadata": {},
   "source": [
    "## LAB 2 - NY TIMES TOP 50"
   ]
  },
  {
   "cell_type": "markdown",
   "metadata": {},
   "source": [
    "#### Submitted by -\n",
    "    Pradeep Kumar Joshi\n",
    "    Abhishek Goswami"
   ]
  },
  {
   "cell_type": "code",
   "execution_count": 1,
   "metadata": {},
   "outputs": [],
   "source": [
    "import pandas as pd\n",
    "import matplotlib\n",
    "import matplotlib.pyplot as plt"
   ]
  },
  {
   "cell_type": "code",
   "execution_count": null,
   "metadata": {},
   "outputs": [],
   "source": [
    "## reading the data and finding top 500 for nytimes\n",
    "data_set = pd.read_csv(\"nytimes_mapreduced.csv\", sep = ',') \n",
    "data_set.columns = [\"word\",\"count\"]\n",
    "TOP_50 = data_set.nlargest(50,\"count\")\n",
    "TOP_50.to_csv('TOP_50_nytimes.csv', sep=',')\n",
    "\n",
    "\n",
    "TOP_50_list = TOP_50[\"word\"].to_list()\n",
    "\n",
    "word_str = TOP_50_list[0]\n",
    "TOP_50_list = TOP_50_list[1:]\n",
    "\n",
    "for word in TOP_50_list:\n",
    "    word_str = word_str + \",\" + word\n",
    "word_str = word_str + \"\\n\"    \n",
    "\n",
    "with open('nytimes.txt','r',encoding=\"utf8\") as f:\n",
    "    with open('nytimes_withtop50.txt','w',encoding=\"utf8\") as f2: \n",
    "        f2.write(word_str)\n",
    "        f2.write(f.read())\n",
    "#os.rename('nytimes_new.txt','nytimes.txt')\n",
    "f2.close()\n",
    "f.close()"
   ]
  },
  {
   "cell_type": "code",
   "execution_count": 16,
   "metadata": {},
   "outputs": [],
   "source": [
    "## reading the data and finding top 500 for nytimes coccurence\n",
    "data_set = pd.read_csv(\"/Users/pradeep/Desktop/projects/dataintensivecomputing/lab2/pjoshi5Lab2/part3/NYT/Output/Word_Cooccurrence/nytimes_mapreduced_cooccurence.csv\", sep = ',') \n",
    "data_set.columns = [\"word\",\"count\"]\n",
    "TOP_50 = data_set.nlargest(50,\"count\")\n",
    "TOP_50.to_csv('/Users/pradeep/Desktop/projects/dataintensivecomputing/lab2/pjoshi5Lab2/part3/NYT/Output/Word_Cooccurrence/TOP_50_nytimes_cooccurence.csv', sep=',')"
   ]
  }
 ],
 "metadata": {
  "kernelspec": {
   "display_name": "Python 3",
   "language": "python",
   "name": "python3"
  },
  "language_info": {
   "codemirror_mode": {
    "name": "ipython",
    "version": 3
   },
   "file_extension": ".py",
   "mimetype": "text/x-python",
   "name": "python",
   "nbconvert_exporter": "python",
   "pygments_lexer": "ipython3",
   "version": "3.7.1"
  }
 },
 "nbformat": 4,
 "nbformat_minor": 2
}
